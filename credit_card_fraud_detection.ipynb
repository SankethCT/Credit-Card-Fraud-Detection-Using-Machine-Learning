{
  "cells": [
    {
      "cell_type": "markdown",
      "id": "d7ce8352",
      "metadata": {
        "id": "d7ce8352"
      },
      "source": [
        "## Credit Card Fraud Detection Project"
      ]
    },
    {
      "cell_type": "code",
      "execution_count": null,
      "id": "8aacd0a9",
      "metadata": {
        "id": "8aacd0a9"
      },
      "outputs": [],
      "source": [
        "\n",
        "import numpy as np\n",
        "import pandas as pd\n",
        "import matplotlib.pyplot as plt\n",
        "from collections import Counter\n",
        "import itertools\n",
        "\n",
        "from sklearn.preprocessing import StandardScaler\n",
        "from sklearn.model_selection import train_test_split\n",
        "from sklearn.ensemble import RandomForestClassifier\n",
        "from sklearn.tree import DecisionTreeClassifier\n",
        "from sklearn.naive_bayes import GaussianNB\n",
        "from sklearn.metrics import accuracy_score, precision_score, confusion_matrix, recall_score, f1_score"
      ]
    },
    {
      "cell_type": "code",
      "execution_count": null,
      "id": "aa0dca6f",
      "metadata": {
        "id": "aa0dca6f",
        "outputId": "d5c990b8-c976-4912-ac2a-bde1d2a4d62f"
      },
      "outputs": [
        {
          "data": {
            "text/html": [
              "<div>\n",
              "<style scoped>\n",
              "    .dataframe tbody tr th:only-of-type {\n",
              "        vertical-align: middle;\n",
              "    }\n",
              "\n",
              "    .dataframe tbody tr th {\n",
              "        vertical-align: top;\n",
              "    }\n",
              "\n",
              "    .dataframe thead th {\n",
              "        text-align: right;\n",
              "    }\n",
              "</style>\n",
              "<table border=\"1\" class=\"dataframe\">\n",
              "  <thead>\n",
              "    <tr style=\"text-align: right;\">\n",
              "      <th></th>\n",
              "      <th>Time</th>\n",
              "      <th>V1</th>\n",
              "      <th>V2</th>\n",
              "      <th>V3</th>\n",
              "      <th>V4</th>\n",
              "      <th>V5</th>\n",
              "      <th>V6</th>\n",
              "      <th>V7</th>\n",
              "      <th>V8</th>\n",
              "      <th>V9</th>\n",
              "      <th>...</th>\n",
              "      <th>V21</th>\n",
              "      <th>V22</th>\n",
              "      <th>V23</th>\n",
              "      <th>V24</th>\n",
              "      <th>V25</th>\n",
              "      <th>V26</th>\n",
              "      <th>V27</th>\n",
              "      <th>V28</th>\n",
              "      <th>Amount</th>\n",
              "      <th>Class</th>\n",
              "    </tr>\n",
              "  </thead>\n",
              "  <tbody>\n",
              "    <tr>\n",
              "      <th>0</th>\n",
              "      <td>0.0</td>\n",
              "      <td>-1.359807</td>\n",
              "      <td>-0.072781</td>\n",
              "      <td>2.536347</td>\n",
              "      <td>1.378155</td>\n",
              "      <td>-0.338321</td>\n",
              "      <td>0.462388</td>\n",
              "      <td>0.239599</td>\n",
              "      <td>0.098698</td>\n",
              "      <td>0.363787</td>\n",
              "      <td>...</td>\n",
              "      <td>-0.018307</td>\n",
              "      <td>0.277838</td>\n",
              "      <td>-0.110474</td>\n",
              "      <td>0.066928</td>\n",
              "      <td>0.128539</td>\n",
              "      <td>-0.189115</td>\n",
              "      <td>0.133558</td>\n",
              "      <td>-0.021053</td>\n",
              "      <td>149.62</td>\n",
              "      <td>0</td>\n",
              "    </tr>\n",
              "    <tr>\n",
              "      <th>1</th>\n",
              "      <td>0.0</td>\n",
              "      <td>1.191857</td>\n",
              "      <td>0.266151</td>\n",
              "      <td>0.166480</td>\n",
              "      <td>0.448154</td>\n",
              "      <td>0.060018</td>\n",
              "      <td>-0.082361</td>\n",
              "      <td>-0.078803</td>\n",
              "      <td>0.085102</td>\n",
              "      <td>-0.255425</td>\n",
              "      <td>...</td>\n",
              "      <td>-0.225775</td>\n",
              "      <td>-0.638672</td>\n",
              "      <td>0.101288</td>\n",
              "      <td>-0.339846</td>\n",
              "      <td>0.167170</td>\n",
              "      <td>0.125895</td>\n",
              "      <td>-0.008983</td>\n",
              "      <td>0.014724</td>\n",
              "      <td>2.69</td>\n",
              "      <td>0</td>\n",
              "    </tr>\n",
              "    <tr>\n",
              "      <th>2</th>\n",
              "      <td>1.0</td>\n",
              "      <td>-1.358354</td>\n",
              "      <td>-1.340163</td>\n",
              "      <td>1.773209</td>\n",
              "      <td>0.379780</td>\n",
              "      <td>-0.503198</td>\n",
              "      <td>1.800499</td>\n",
              "      <td>0.791461</td>\n",
              "      <td>0.247676</td>\n",
              "      <td>-1.514654</td>\n",
              "      <td>...</td>\n",
              "      <td>0.247998</td>\n",
              "      <td>0.771679</td>\n",
              "      <td>0.909412</td>\n",
              "      <td>-0.689281</td>\n",
              "      <td>-0.327642</td>\n",
              "      <td>-0.139097</td>\n",
              "      <td>-0.055353</td>\n",
              "      <td>-0.059752</td>\n",
              "      <td>378.66</td>\n",
              "      <td>0</td>\n",
              "    </tr>\n",
              "    <tr>\n",
              "      <th>3</th>\n",
              "      <td>1.0</td>\n",
              "      <td>-0.966272</td>\n",
              "      <td>-0.185226</td>\n",
              "      <td>1.792993</td>\n",
              "      <td>-0.863291</td>\n",
              "      <td>-0.010309</td>\n",
              "      <td>1.247203</td>\n",
              "      <td>0.237609</td>\n",
              "      <td>0.377436</td>\n",
              "      <td>-1.387024</td>\n",
              "      <td>...</td>\n",
              "      <td>-0.108300</td>\n",
              "      <td>0.005274</td>\n",
              "      <td>-0.190321</td>\n",
              "      <td>-1.175575</td>\n",
              "      <td>0.647376</td>\n",
              "      <td>-0.221929</td>\n",
              "      <td>0.062723</td>\n",
              "      <td>0.061458</td>\n",
              "      <td>123.50</td>\n",
              "      <td>0</td>\n",
              "    </tr>\n",
              "    <tr>\n",
              "      <th>4</th>\n",
              "      <td>2.0</td>\n",
              "      <td>-1.158233</td>\n",
              "      <td>0.877737</td>\n",
              "      <td>1.548718</td>\n",
              "      <td>0.403034</td>\n",
              "      <td>-0.407193</td>\n",
              "      <td>0.095921</td>\n",
              "      <td>0.592941</td>\n",
              "      <td>-0.270533</td>\n",
              "      <td>0.817739</td>\n",
              "      <td>...</td>\n",
              "      <td>-0.009431</td>\n",
              "      <td>0.798278</td>\n",
              "      <td>-0.137458</td>\n",
              "      <td>0.141267</td>\n",
              "      <td>-0.206010</td>\n",
              "      <td>0.502292</td>\n",
              "      <td>0.219422</td>\n",
              "      <td>0.215153</td>\n",
              "      <td>69.99</td>\n",
              "      <td>0</td>\n",
              "    </tr>\n",
              "  </tbody>\n",
              "</table>\n",
              "<p>5 rows × 31 columns</p>\n",
              "</div>"
            ],
            "text/plain": [
              "   Time        V1        V2        V3        V4        V5        V6        V7  \\\n",
              "0   0.0 -1.359807 -0.072781  2.536347  1.378155 -0.338321  0.462388  0.239599   \n",
              "1   0.0  1.191857  0.266151  0.166480  0.448154  0.060018 -0.082361 -0.078803   \n",
              "2   1.0 -1.358354 -1.340163  1.773209  0.379780 -0.503198  1.800499  0.791461   \n",
              "3   1.0 -0.966272 -0.185226  1.792993 -0.863291 -0.010309  1.247203  0.237609   \n",
              "4   2.0 -1.158233  0.877737  1.548718  0.403034 -0.407193  0.095921  0.592941   \n",
              "\n",
              "         V8        V9  ...       V21       V22       V23       V24       V25  \\\n",
              "0  0.098698  0.363787  ... -0.018307  0.277838 -0.110474  0.066928  0.128539   \n",
              "1  0.085102 -0.255425  ... -0.225775 -0.638672  0.101288 -0.339846  0.167170   \n",
              "2  0.247676 -1.514654  ...  0.247998  0.771679  0.909412 -0.689281 -0.327642   \n",
              "3  0.377436 -1.387024  ... -0.108300  0.005274 -0.190321 -1.175575  0.647376   \n",
              "4 -0.270533  0.817739  ... -0.009431  0.798278 -0.137458  0.141267 -0.206010   \n",
              "\n",
              "        V26       V27       V28  Amount  Class  \n",
              "0 -0.189115  0.133558 -0.021053  149.62      0  \n",
              "1  0.125895 -0.008983  0.014724    2.69      0  \n",
              "2 -0.139097 -0.055353 -0.059752  378.66      0  \n",
              "3 -0.221929  0.062723  0.061458  123.50      0  \n",
              "4  0.502292  0.219422  0.215153   69.99      0  \n",
              "\n",
              "[5 rows x 31 columns]"
            ]
          },
          "execution_count": 2,
          "metadata": {},
          "output_type": "execute_result"
        }
      ],
      "source": [
        "# Load the csv file\n",
        "\n",
        "dataframe = pd.read_csv(\"creditcard.csv\")\n",
        "dataframe.head()"
      ]
    },
    {
      "cell_type": "code",
      "execution_count": null,
      "id": "23e4756b",
      "metadata": {
        "id": "23e4756b",
        "outputId": "d7935914-ac05-40f7-fed3-b0c1d70ff32a"
      },
      "outputs": [
        {
          "name": "stdout",
          "output_type": "stream",
          "text": [
            "<class 'pandas.core.frame.DataFrame'>\n",
            "RangeIndex: 284807 entries, 0 to 284806\n",
            "Data columns (total 31 columns):\n",
            " #   Column  Non-Null Count   Dtype  \n",
            "---  ------  --------------   -----  \n",
            " 0   Time    284807 non-null  float64\n",
            " 1   V1      284807 non-null  float64\n",
            " 2   V2      284807 non-null  float64\n",
            " 3   V3      284807 non-null  float64\n",
            " 4   V4      284807 non-null  float64\n",
            " 5   V5      284807 non-null  float64\n",
            " 6   V6      284807 non-null  float64\n",
            " 7   V7      284807 non-null  float64\n",
            " 8   V8      284807 non-null  float64\n",
            " 9   V9      284807 non-null  float64\n",
            " 10  V10     284807 non-null  float64\n",
            " 11  V11     284807 non-null  float64\n",
            " 12  V12     284807 non-null  float64\n",
            " 13  V13     284807 non-null  float64\n",
            " 14  V14     284807 non-null  float64\n",
            " 15  V15     284807 non-null  float64\n",
            " 16  V16     284807 non-null  float64\n",
            " 17  V17     284807 non-null  float64\n",
            " 18  V18     284807 non-null  float64\n",
            " 19  V19     284807 non-null  float64\n",
            " 20  V20     284807 non-null  float64\n",
            " 21  V21     284807 non-null  float64\n",
            " 22  V22     284807 non-null  float64\n",
            " 23  V23     284807 non-null  float64\n",
            " 24  V24     284807 non-null  float64\n",
            " 25  V25     284807 non-null  float64\n",
            " 26  V26     284807 non-null  float64\n",
            " 27  V27     284807 non-null  float64\n",
            " 28  V28     284807 non-null  float64\n",
            " 29  Amount  284807 non-null  float64\n",
            " 30  Class   284807 non-null  int64  \n",
            "dtypes: float64(30), int64(1)\n",
            "memory usage: 67.4 MB\n"
          ]
        }
      ],
      "source": [
        "dataframe.info()"
      ]
    },
    {
      "cell_type": "code",
      "execution_count": null,
      "id": "3a684d95",
      "metadata": {
        "id": "3a684d95",
        "outputId": "431f1221-21bb-4a82-e717-ae16bb617835"
      },
      "outputs": [
        {
          "data": {
            "text/plain": [
              "False"
            ]
          },
          "execution_count": 4,
          "metadata": {},
          "output_type": "execute_result"
        }
      ],
      "source": [
        "# Check for null values\n",
        "\n",
        "dataframe.isnull().values.any()"
      ]
    },
    {
      "cell_type": "code",
      "execution_count": null,
      "id": "24a15823",
      "metadata": {
        "id": "24a15823",
        "outputId": "074f4034-9907-4770-deb1-8c3649b901b6"
      },
      "outputs": [
        {
          "data": {
            "text/html": [
              "<div>\n",
              "<style scoped>\n",
              "    .dataframe tbody tr th:only-of-type {\n",
              "        vertical-align: middle;\n",
              "    }\n",
              "\n",
              "    .dataframe tbody tr th {\n",
              "        vertical-align: top;\n",
              "    }\n",
              "\n",
              "    .dataframe thead th {\n",
              "        text-align: right;\n",
              "    }\n",
              "</style>\n",
              "<table border=\"1\" class=\"dataframe\">\n",
              "  <thead>\n",
              "    <tr style=\"text-align: right;\">\n",
              "      <th></th>\n",
              "      <th>Time</th>\n",
              "      <th>V1</th>\n",
              "      <th>V2</th>\n",
              "      <th>V3</th>\n",
              "      <th>V4</th>\n",
              "      <th>V5</th>\n",
              "      <th>V6</th>\n",
              "      <th>V7</th>\n",
              "      <th>V8</th>\n",
              "      <th>V9</th>\n",
              "      <th>...</th>\n",
              "      <th>V21</th>\n",
              "      <th>V22</th>\n",
              "      <th>V23</th>\n",
              "      <th>V24</th>\n",
              "      <th>V25</th>\n",
              "      <th>V26</th>\n",
              "      <th>V27</th>\n",
              "      <th>V28</th>\n",
              "      <th>Amount</th>\n",
              "      <th>Class</th>\n",
              "    </tr>\n",
              "  </thead>\n",
              "  <tbody>\n",
              "    <tr>\n",
              "      <th>count</th>\n",
              "      <td>284807.000000</td>\n",
              "      <td>2.848070e+05</td>\n",
              "      <td>2.848070e+05</td>\n",
              "      <td>2.848070e+05</td>\n",
              "      <td>2.848070e+05</td>\n",
              "      <td>2.848070e+05</td>\n",
              "      <td>2.848070e+05</td>\n",
              "      <td>2.848070e+05</td>\n",
              "      <td>2.848070e+05</td>\n",
              "      <td>2.848070e+05</td>\n",
              "      <td>...</td>\n",
              "      <td>2.848070e+05</td>\n",
              "      <td>2.848070e+05</td>\n",
              "      <td>2.848070e+05</td>\n",
              "      <td>2.848070e+05</td>\n",
              "      <td>2.848070e+05</td>\n",
              "      <td>2.848070e+05</td>\n",
              "      <td>2.848070e+05</td>\n",
              "      <td>2.848070e+05</td>\n",
              "      <td>284807.000000</td>\n",
              "      <td>284807.000000</td>\n",
              "    </tr>\n",
              "    <tr>\n",
              "      <th>mean</th>\n",
              "      <td>94813.859575</td>\n",
              "      <td>3.918649e-15</td>\n",
              "      <td>5.682686e-16</td>\n",
              "      <td>-8.761736e-15</td>\n",
              "      <td>2.811118e-15</td>\n",
              "      <td>-1.552103e-15</td>\n",
              "      <td>2.040130e-15</td>\n",
              "      <td>-1.698953e-15</td>\n",
              "      <td>-1.893285e-16</td>\n",
              "      <td>-3.147640e-15</td>\n",
              "      <td>...</td>\n",
              "      <td>1.473120e-16</td>\n",
              "      <td>8.042109e-16</td>\n",
              "      <td>5.282512e-16</td>\n",
              "      <td>4.456271e-15</td>\n",
              "      <td>1.426896e-15</td>\n",
              "      <td>1.701640e-15</td>\n",
              "      <td>-3.662252e-16</td>\n",
              "      <td>-1.217809e-16</td>\n",
              "      <td>88.349619</td>\n",
              "      <td>0.001727</td>\n",
              "    </tr>\n",
              "    <tr>\n",
              "      <th>std</th>\n",
              "      <td>47488.145955</td>\n",
              "      <td>1.958696e+00</td>\n",
              "      <td>1.651309e+00</td>\n",
              "      <td>1.516255e+00</td>\n",
              "      <td>1.415869e+00</td>\n",
              "      <td>1.380247e+00</td>\n",
              "      <td>1.332271e+00</td>\n",
              "      <td>1.237094e+00</td>\n",
              "      <td>1.194353e+00</td>\n",
              "      <td>1.098632e+00</td>\n",
              "      <td>...</td>\n",
              "      <td>7.345240e-01</td>\n",
              "      <td>7.257016e-01</td>\n",
              "      <td>6.244603e-01</td>\n",
              "      <td>6.056471e-01</td>\n",
              "      <td>5.212781e-01</td>\n",
              "      <td>4.822270e-01</td>\n",
              "      <td>4.036325e-01</td>\n",
              "      <td>3.300833e-01</td>\n",
              "      <td>250.120109</td>\n",
              "      <td>0.041527</td>\n",
              "    </tr>\n",
              "    <tr>\n",
              "      <th>min</th>\n",
              "      <td>0.000000</td>\n",
              "      <td>-5.640751e+01</td>\n",
              "      <td>-7.271573e+01</td>\n",
              "      <td>-4.832559e+01</td>\n",
              "      <td>-5.683171e+00</td>\n",
              "      <td>-1.137433e+02</td>\n",
              "      <td>-2.616051e+01</td>\n",
              "      <td>-4.355724e+01</td>\n",
              "      <td>-7.321672e+01</td>\n",
              "      <td>-1.343407e+01</td>\n",
              "      <td>...</td>\n",
              "      <td>-3.483038e+01</td>\n",
              "      <td>-1.093314e+01</td>\n",
              "      <td>-4.480774e+01</td>\n",
              "      <td>-2.836627e+00</td>\n",
              "      <td>-1.029540e+01</td>\n",
              "      <td>-2.604551e+00</td>\n",
              "      <td>-2.256568e+01</td>\n",
              "      <td>-1.543008e+01</td>\n",
              "      <td>0.000000</td>\n",
              "      <td>0.000000</td>\n",
              "    </tr>\n",
              "    <tr>\n",
              "      <th>25%</th>\n",
              "      <td>54201.500000</td>\n",
              "      <td>-9.203734e-01</td>\n",
              "      <td>-5.985499e-01</td>\n",
              "      <td>-8.903648e-01</td>\n",
              "      <td>-8.486401e-01</td>\n",
              "      <td>-6.915971e-01</td>\n",
              "      <td>-7.682956e-01</td>\n",
              "      <td>-5.540759e-01</td>\n",
              "      <td>-2.086297e-01</td>\n",
              "      <td>-6.430976e-01</td>\n",
              "      <td>...</td>\n",
              "      <td>-2.283949e-01</td>\n",
              "      <td>-5.423504e-01</td>\n",
              "      <td>-1.618463e-01</td>\n",
              "      <td>-3.545861e-01</td>\n",
              "      <td>-3.171451e-01</td>\n",
              "      <td>-3.269839e-01</td>\n",
              "      <td>-7.083953e-02</td>\n",
              "      <td>-5.295979e-02</td>\n",
              "      <td>5.600000</td>\n",
              "      <td>0.000000</td>\n",
              "    </tr>\n",
              "    <tr>\n",
              "      <th>50%</th>\n",
              "      <td>84692.000000</td>\n",
              "      <td>1.810880e-02</td>\n",
              "      <td>6.548556e-02</td>\n",
              "      <td>1.798463e-01</td>\n",
              "      <td>-1.984653e-02</td>\n",
              "      <td>-5.433583e-02</td>\n",
              "      <td>-2.741871e-01</td>\n",
              "      <td>4.010308e-02</td>\n",
              "      <td>2.235804e-02</td>\n",
              "      <td>-5.142873e-02</td>\n",
              "      <td>...</td>\n",
              "      <td>-2.945017e-02</td>\n",
              "      <td>6.781943e-03</td>\n",
              "      <td>-1.119293e-02</td>\n",
              "      <td>4.097606e-02</td>\n",
              "      <td>1.659350e-02</td>\n",
              "      <td>-5.213911e-02</td>\n",
              "      <td>1.342146e-03</td>\n",
              "      <td>1.124383e-02</td>\n",
              "      <td>22.000000</td>\n",
              "      <td>0.000000</td>\n",
              "    </tr>\n",
              "    <tr>\n",
              "      <th>75%</th>\n",
              "      <td>139320.500000</td>\n",
              "      <td>1.315642e+00</td>\n",
              "      <td>8.037239e-01</td>\n",
              "      <td>1.027196e+00</td>\n",
              "      <td>7.433413e-01</td>\n",
              "      <td>6.119264e-01</td>\n",
              "      <td>3.985649e-01</td>\n",
              "      <td>5.704361e-01</td>\n",
              "      <td>3.273459e-01</td>\n",
              "      <td>5.971390e-01</td>\n",
              "      <td>...</td>\n",
              "      <td>1.863772e-01</td>\n",
              "      <td>5.285536e-01</td>\n",
              "      <td>1.476421e-01</td>\n",
              "      <td>4.395266e-01</td>\n",
              "      <td>3.507156e-01</td>\n",
              "      <td>2.409522e-01</td>\n",
              "      <td>9.104512e-02</td>\n",
              "      <td>7.827995e-02</td>\n",
              "      <td>77.165000</td>\n",
              "      <td>0.000000</td>\n",
              "    </tr>\n",
              "    <tr>\n",
              "      <th>max</th>\n",
              "      <td>172792.000000</td>\n",
              "      <td>2.454930e+00</td>\n",
              "      <td>2.205773e+01</td>\n",
              "      <td>9.382558e+00</td>\n",
              "      <td>1.687534e+01</td>\n",
              "      <td>3.480167e+01</td>\n",
              "      <td>7.330163e+01</td>\n",
              "      <td>1.205895e+02</td>\n",
              "      <td>2.000721e+01</td>\n",
              "      <td>1.559499e+01</td>\n",
              "      <td>...</td>\n",
              "      <td>2.720284e+01</td>\n",
              "      <td>1.050309e+01</td>\n",
              "      <td>2.252841e+01</td>\n",
              "      <td>4.584549e+00</td>\n",
              "      <td>7.519589e+00</td>\n",
              "      <td>3.517346e+00</td>\n",
              "      <td>3.161220e+01</td>\n",
              "      <td>3.384781e+01</td>\n",
              "      <td>25691.160000</td>\n",
              "      <td>1.000000</td>\n",
              "    </tr>\n",
              "  </tbody>\n",
              "</table>\n",
              "<p>8 rows × 31 columns</p>\n",
              "</div>"
            ],
            "text/plain": [
              "                Time            V1            V2            V3            V4  \\\n",
              "count  284807.000000  2.848070e+05  2.848070e+05  2.848070e+05  2.848070e+05   \n",
              "mean    94813.859575  3.918649e-15  5.682686e-16 -8.761736e-15  2.811118e-15   \n",
              "std     47488.145955  1.958696e+00  1.651309e+00  1.516255e+00  1.415869e+00   \n",
              "min         0.000000 -5.640751e+01 -7.271573e+01 -4.832559e+01 -5.683171e+00   \n",
              "25%     54201.500000 -9.203734e-01 -5.985499e-01 -8.903648e-01 -8.486401e-01   \n",
              "50%     84692.000000  1.810880e-02  6.548556e-02  1.798463e-01 -1.984653e-02   \n",
              "75%    139320.500000  1.315642e+00  8.037239e-01  1.027196e+00  7.433413e-01   \n",
              "max    172792.000000  2.454930e+00  2.205773e+01  9.382558e+00  1.687534e+01   \n",
              "\n",
              "                 V5            V6            V7            V8            V9  \\\n",
              "count  2.848070e+05  2.848070e+05  2.848070e+05  2.848070e+05  2.848070e+05   \n",
              "mean  -1.552103e-15  2.040130e-15 -1.698953e-15 -1.893285e-16 -3.147640e-15   \n",
              "std    1.380247e+00  1.332271e+00  1.237094e+00  1.194353e+00  1.098632e+00   \n",
              "min   -1.137433e+02 -2.616051e+01 -4.355724e+01 -7.321672e+01 -1.343407e+01   \n",
              "25%   -6.915971e-01 -7.682956e-01 -5.540759e-01 -2.086297e-01 -6.430976e-01   \n",
              "50%   -5.433583e-02 -2.741871e-01  4.010308e-02  2.235804e-02 -5.142873e-02   \n",
              "75%    6.119264e-01  3.985649e-01  5.704361e-01  3.273459e-01  5.971390e-01   \n",
              "max    3.480167e+01  7.330163e+01  1.205895e+02  2.000721e+01  1.559499e+01   \n",
              "\n",
              "       ...           V21           V22           V23           V24  \\\n",
              "count  ...  2.848070e+05  2.848070e+05  2.848070e+05  2.848070e+05   \n",
              "mean   ...  1.473120e-16  8.042109e-16  5.282512e-16  4.456271e-15   \n",
              "std    ...  7.345240e-01  7.257016e-01  6.244603e-01  6.056471e-01   \n",
              "min    ... -3.483038e+01 -1.093314e+01 -4.480774e+01 -2.836627e+00   \n",
              "25%    ... -2.283949e-01 -5.423504e-01 -1.618463e-01 -3.545861e-01   \n",
              "50%    ... -2.945017e-02  6.781943e-03 -1.119293e-02  4.097606e-02   \n",
              "75%    ...  1.863772e-01  5.285536e-01  1.476421e-01  4.395266e-01   \n",
              "max    ...  2.720284e+01  1.050309e+01  2.252841e+01  4.584549e+00   \n",
              "\n",
              "                V25           V26           V27           V28         Amount  \\\n",
              "count  2.848070e+05  2.848070e+05  2.848070e+05  2.848070e+05  284807.000000   \n",
              "mean   1.426896e-15  1.701640e-15 -3.662252e-16 -1.217809e-16      88.349619   \n",
              "std    5.212781e-01  4.822270e-01  4.036325e-01  3.300833e-01     250.120109   \n",
              "min   -1.029540e+01 -2.604551e+00 -2.256568e+01 -1.543008e+01       0.000000   \n",
              "25%   -3.171451e-01 -3.269839e-01 -7.083953e-02 -5.295979e-02       5.600000   \n",
              "50%    1.659350e-02 -5.213911e-02  1.342146e-03  1.124383e-02      22.000000   \n",
              "75%    3.507156e-01  2.409522e-01  9.104512e-02  7.827995e-02      77.165000   \n",
              "max    7.519589e+00  3.517346e+00  3.161220e+01  3.384781e+01   25691.160000   \n",
              "\n",
              "               Class  \n",
              "count  284807.000000  \n",
              "mean        0.001727  \n",
              "std         0.041527  \n",
              "min         0.000000  \n",
              "25%         0.000000  \n",
              "50%         0.000000  \n",
              "75%         0.000000  \n",
              "max         1.000000  \n",
              "\n",
              "[8 rows x 31 columns]"
            ]
          },
          "execution_count": 5,
          "metadata": {},
          "output_type": "execute_result"
        }
      ],
      "source": [
        "dataframe.describe()"
      ]
    },
    {
      "cell_type": "code",
      "execution_count": null,
      "id": "109a3031",
      "metadata": {
        "id": "109a3031",
        "outputId": "07ed2d4c-1203-4933-dbe3-c89044b90235"
      },
      "outputs": [
        {
          "data": {
            "text/plain": [
              "count    284807.000000\n",
              "mean         88.349619\n",
              "std         250.120109\n",
              "min           0.000000\n",
              "25%           5.600000\n",
              "50%          22.000000\n",
              "75%          77.165000\n",
              "max       25691.160000\n",
              "Name: Amount, dtype: float64"
            ]
          },
          "execution_count": 6,
          "metadata": {},
          "output_type": "execute_result"
        }
      ],
      "source": [
        "dataframe[\"Amount\"].describe()"
      ]
    },
    {
      "cell_type": "code",
      "execution_count": null,
      "id": "009b1c38",
      "metadata": {
        "id": "009b1c38",
        "outputId": "1c1ac4a5-7765-429e-8f33-829e9bd487de"
      },
      "outputs": [
        {
          "name": "stdout",
          "output_type": "stream",
          "text": [
            "Number of Genuine transactions:  284315\n",
            "Number of Fraud transactions:  492\n",
            "Percentage of Fraud transactions: 0.1727\n"
          ]
        }
      ],
      "source": [
        "non_fraud = len(dataframe[dataframe.Class == 0])\n",
        "fraud = len(dataframe[dataframe.Class == 1])\n",
        "fraud_percent = (fraud / (fraud + non_fraud)) * 100\n",
        "\n",
        "print(\"Number of Genuine transactions: \", non_fraud)\n",
        "print(\"Number of Fraud transactions: \", fraud)\n",
        "print(\"Percentage of Fraud transactions: {:.4f}\".format(fraud_percent))"
      ]
    },
    {
      "cell_type": "code",
      "execution_count": null,
      "id": "95fd441a",
      "metadata": {
        "id": "95fd441a",
        "outputId": "8ebcf11e-4d54-4260-cf8e-594c0c05b5f0"
      },
      "outputs": [
        {
          "data": {
            "image/png": "[encoded data removed]",
            "text/plain": [
              "<Figure size 432x288 with 1 Axes>"
            ]
          },
          "metadata": {
            "needs_background": "light"
          },
          "output_type": "display_data"
        }
      ],
      "source": [
        "# Visualize the \"Labels\" column in our dataset\n",
        "\n",
        "labels = [\"Genuine\", \"Fraud\"]\n",
        "count_classes = dataframe.value_counts(dataframe['Class'], sort= True)\n",
        "count_classes.plot(kind = \"bar\", rot = 0)\n",
        "plt.title(\"Visualization of Labels\")\n",
        "plt.ylabel(\"Count\")\n",
        "plt.xticks(range(2), labels)\n",
        "plt.show()"
      ]
    },
    {
      "cell_type": "code",
      "execution_count": null,
      "id": "0c17ab9b",
      "metadata": {
        "id": "0c17ab9b"
      },
      "outputs": [],
      "source": [
        "# Perform Scaling\n",
        "scaler = StandardScaler()\n",
        "dataframe[\"NormalizedAmount\"] = scaler.fit_transform(dataframe[\"Amount\"].values.reshape(-1, 1))\n",
        "dataframe.drop([\"Amount\", \"Time\"], inplace= True, axis= 1)\n",
        "\n",
        "Y = dataframe[\"Class\"]\n",
        "X = dataframe.drop([\"Class\"], axis= 1)"
      ]
    },
    {
      "cell_type": "code",
      "execution_count": null,
      "id": "f3f75251",
      "metadata": {
        "id": "f3f75251",
        "outputId": "227cb808-fcf5-4a87-ea1b-3de7181cdd80"
      },
      "outputs": [
        {
          "data": {
            "text/plain": [
              "0    0\n",
              "1    0\n",
              "2    0\n",
              "3    0\n",
              "4    0\n",
              "Name: Class, dtype: int64"
            ]
          },
          "execution_count": 10,
          "metadata": {},
          "output_type": "execute_result"
        }
      ],
      "source": [
        "Y.head()"
      ]
    },
    {
      "cell_type": "code",
      "execution_count": null,
      "id": "08d72aae",
      "metadata": {
        "id": "08d72aae",
        "outputId": "141f0e86-7262-40c2-e44f-e7cd83f3277d"
      },
      "outputs": [
        {
          "name": "stdout",
          "output_type": "stream",
          "text": [
            "Shape of train_X:  (199364, 29)\n",
            "Shape of test_X:  (85443, 29)\n"
          ]
        }
      ],
      "source": [
        "# Split the data\n",
        "(train_X, test_X, train_Y, test_Y) = train_test_split(X, Y, test_size= 0.3, random_state= 42)\n",
        "\n",
        "print(\"Shape of train_X: \", train_X.shape)\n",
        "print(\"Shape of test_X: \", test_X.shape)"
      ]
    },
    {
      "cell_type": "code",
      "execution_count": null,
      "id": "2ec9ab7e",
      "metadata": {
        "id": "2ec9ab7e"
      },
      "outputs": [],
      "source": [
        "# Decision Tree Classifier\n",
        "decision_tree = DecisionTreeClassifier()\n",
        "decision_tree.fit(train_X, train_Y)\n",
        "\n",
        "predictions_dt = decision_tree.predict(test_X)\n",
        "decision_tree_score = decision_tree.score(test_X, test_Y) * 100"
      ]
    },
    {
      "cell_type": "code",
      "execution_count": null,
      "id": "0ede50ab",
      "metadata": {
        "id": "0ede50ab",
        "outputId": "49970275-d619-4e76-f7f4-56d655e67a8e"
      },
      "outputs": [
        {
          "name": "stdout",
          "output_type": "stream",
          "text": [
            "Decision Tree Score:  99.9098814414288\n"
          ]
        }
      ],
      "source": [
        "print(\"Decision Tree Score: \", decision_tree_score)"
      ]
    },
    {
      "cell_type": "code",
      "execution_count": null,
      "id": "6a6d33ea",
      "metadata": {
        "id": "6a6d33ea"
      },
      "outputs": [],
      "source": [
        "# Random Forest\n",
        "random_forest = RandomForestClassifier(n_estimators= 100)\n",
        "random_forest.fit(train_X, train_Y)\n",
        "\n",
        "predictions_rf = random_forest.predict(test_X)\n",
        "random_forest_score = random_forest.score(test_X, test_Y) * 100"
      ]
    },
    {
      "cell_type": "code",
      "execution_count": null,
      "id": "268379be",
      "metadata": {
        "id": "268379be",
        "outputId": "182f247f-4499-4b93-d328-c8b5867d9b8c"
      },
      "outputs": [
        {
          "name": "stdout",
          "output_type": "stream",
          "text": [
            "Random Forest Score:  99.96137776061234\n"
          ]
        }
      ],
      "source": [
        "print(\"Random Forest Score: \", random_forest_score)\n"
      ]
    },
    {
      "cell_type": "code",
      "execution_count": null,
      "id": "35ce73de",
      "metadata": {
        "id": "35ce73de"
      },
      "outputs": [],
      "source": [
        "# Naive Bayes\n",
        "naive_bayes= GaussianNB()\n",
        "naive_bayes.fit(train_X,train_Y)\n",
        "\n",
        "predictions_nb=naive_bayes.predict(test_X)\n",
        "naive_bayes_score=naive_bayes.score(test_X, test_Y) * 100"
      ]
    },
    {
      "cell_type": "code",
      "execution_count": null,
      "id": "215c5ac9",
      "metadata": {
        "id": "215c5ac9",
        "outputId": "eb0ecd61-c756-40af-9ed0-f0a9f5f65433"
      },
      "outputs": [
        {
          "name": "stdout",
          "output_type": "stream",
          "text": [
            "Naive Bayes score:  97.80906569291808\n"
          ]
        }
      ],
      "source": [
        "print(\"Naive Bayes score: \", naive_bayes_score)"
      ]
    },
    {
      "cell_type": "code",
      "execution_count": null,
      "id": "adf6ead7",
      "metadata": {
        "id": "adf6ead7"
      },
      "outputs": [],
      "source": [
        "# The below function is directly taken from the scikit-learn website to plot the confusion matrix\n",
        "\n",
        "def plot_confusion_matrix(cm, classes, normalize=False, title='Confusion Matrix', cmap=plt.cm.Blues):\n",
        "    \"\"\"\n",
        "    This function prints and plots the confusion matrix.\n",
        "    Normalization can be applied by setting `normalize=True`.\n",
        "    \"\"\"\n",
        "    if normalize:\n",
        "        cm = cm.astype('float') / cm.sum(axis=1)[:, np.newaxis]\n",
        "        print(\"Normalized confusion matrix\")\n",
        "    else:\n",
        "        print('Confusion matrix, without normalization')\n",
        "\n",
        "    plt.imshow(cm, interpolation='nearest', cmap=cmap)\n",
        "    plt.title(title)\n",
        "    plt.colorbar()\n",
        "    tick_marks = np.arange(len(classes))\n",
        "    plt.xticks(tick_marks, classes, rotation=0)\n",
        "    plt.yticks(tick_marks, classes)\n",
        "\n",
        "    fmt = '.2f' if normalize else 'd'\n",
        "    thresh = cm.max() / 2.\n",
        "    for i, j in itertools.product(range(cm.shape[0]), range(cm.shape[1])):\n",
        "        plt.text(j, i, format(cm[i, j], fmt), horizontalalignment=\"center\", color=\"white\" if cm[i, j] > thresh else \"black\")\n",
        "\n",
        "    plt.ylabel('True label')\n",
        "    plt.xlabel('Predicted label')\n",
        "    plt.tight_layout()\n",
        "\n"
      ]
    },
    {
      "cell_type": "code",
      "execution_count": null,
      "id": "0cc73768",
      "metadata": {
        "id": "0cc73768",
        "outputId": "57d5b542-01eb-4bae-9f0d-306a9e325042"
      },
      "outputs": [
        {
          "name": "stdout",
          "output_type": "stream",
          "text": [
            "Confusion Matrix - Decision Tree\n",
            "[[85262    45]\n",
            " [   32   104]]\n"
          ]
        }
      ],
      "source": [
        "# Plot confusion matrix for Decision Trees\n",
        "\n",
        "confusion_matrix_dt = confusion_matrix(test_Y, predictions_dt.round())\n",
        "print(\"Confusion Matrix - Decision Tree\")\n",
        "print(confusion_matrix_dt)"
      ]
    },
    {
      "cell_type": "code",
      "execution_count": null,
      "id": "6f6d3027",
      "metadata": {
        "id": "6f6d3027",
        "outputId": "564d3993-4781-405f-ff7b-708223fd12a8"
      },
      "outputs": [
        {
          "name": "stdout",
          "output_type": "stream",
          "text": [
            "Confusion matrix, without normalization\n"
          ]
        },
        {
          "data": {
            "image/png": "[encoded data removed]",
            "text/plain": [
              "<Figure size 432x288 with 2 Axes>"
            ]
          },
          "metadata": {
            "needs_background": "light"
          },
          "output_type": "display_data"
        }
      ],
      "source": [
        "plot_confusion_matrix(confusion_matrix_dt, classes=[0, 1], title= \"Confusion Matrix - Decision Tree\")"
      ]
    },
    {
      "cell_type": "code",
      "execution_count": null,
      "id": "07c23d0a",
      "metadata": {
        "id": "07c23d0a",
        "outputId": "72780ee1-8020-4ea4-b07a-3034c90499a1"
      },
      "outputs": [
        {
          "name": "stdout",
          "output_type": "stream",
          "text": [
            "Confusion Matrix - Random Forest\n",
            "[[85300     7]\n",
            " [   26   110]]\n"
          ]
        }
      ],
      "source": [
        "# Plot confusion matrix for Random Forests\n",
        "\n",
        "confusion_matrix_rf = confusion_matrix(test_Y, predictions_rf.round())\n",
        "print(\"Confusion Matrix - Random Forest\")\n",
        "print(confusion_matrix_rf)"
      ]
    },
    {
      "cell_type": "code",
      "execution_count": null,
      "id": "65f9da07",
      "metadata": {
        "id": "65f9da07",
        "outputId": "4d0d5378-ad52-4e74-b9ed-a6dd6b5d4704"
      },
      "outputs": [
        {
          "name": "stdout",
          "output_type": "stream",
          "text": [
            "Confusion matrix, without normalization\n"
          ]
        },
        {
          "data": {
            "image/png": "[encoded data removed]",
            "text/plain": [
              "<Figure size 432x288 with 2 Axes>"
            ]
          },
          "metadata": {
            "needs_background": "light"
          },
          "output_type": "display_data"
        }
      ],
      "source": [
        "plot_confusion_matrix(confusion_matrix_rf, classes=[0, 1], title= \"Confusion Matrix - Random Forest\")"
      ]
    },
    {
      "cell_type": "code",
      "execution_count": null,
      "id": "97d5e46c",
      "metadata": {
        "id": "97d5e46c",
        "outputId": "d3ed2d54-d31f-4613-e8dc-a9ca68683a07"
      },
      "outputs": [
        {
          "name": "stdout",
          "output_type": "stream",
          "text": [
            "Confusion Matrix - Naive bayes\n",
            "[[83456  1851]\n",
            " [   21   115]]\n"
          ]
        }
      ],
      "source": [
        "# Plot confusion matrix for Decision Trees\n",
        "\n",
        "confusion_matrix_nb = confusion_matrix(test_Y, predictions_nb.round())\n",
        "print(\"Confusion Matrix - Naive bayes\")\n",
        "print(confusion_matrix_nb)"
      ]
    },
    {
      "cell_type": "code",
      "execution_count": null,
      "id": "a422c297",
      "metadata": {
        "id": "a422c297",
        "outputId": "91c32bc6-86be-4002-a01f-047f975bbba8"
      },
      "outputs": [
        {
          "name": "stdout",
          "output_type": "stream",
          "text": [
            "Confusion matrix, without normalization\n"
          ]
        },
        {
          "data": {
            "image/png": "[encoded data removed]",
            "text/plain": [
              "<Figure size 432x288 with 2 Axes>"
            ]
          },
          "metadata": {
            "needs_background": "light"
          },
          "output_type": "display_data"
        }
      ],
      "source": [
        "plot_confusion_matrix(confusion_matrix_nb, classes=[0, 1], title= \"Confusion Matrix - Naive bayes\")"
      ]
    },
    {
      "cell_type": "code",
      "execution_count": null,
      "id": "5246baf8",
      "metadata": {
        "id": "5246baf8"
      },
      "outputs": [],
      "source": [
        "# The below function prints the following necesary metrics\n",
        "\n",
        "def metrics(actuals, predictions):\n",
        "    print(\"Accuracy: {:.5f}\".format(accuracy_score(actuals, predictions)))\n",
        "    print(\"Precision: {:.5f}\".format(precision_score(actuals, predictions)))\n",
        "    print(\"Recall: {:.5f}\".format(recall_score(actuals, predictions)))\n",
        "    print(\"F1-score: {:.5f}\".format(f1_score(actuals, predictions)))\n",
        ""
      ]
    },
    {
      "cell_type": "code",
      "execution_count": null,
      "id": "cb45ff83",
      "metadata": {
        "id": "cb45ff83",
        "outputId": "9d3ad7e5-2821-467b-d22a-121e6cfe2619"
      },
      "outputs": [
        {
          "name": "stdout",
          "output_type": "stream",
          "text": [
            "Evaluation of Decision Tree Model\n",
            "\n",
            "Accuracy: 0.99910\n",
            "Precision: 0.69799\n",
            "Recall: 0.76471\n",
            "F1-score: 0.72982\n"
          ]
        }
      ],
      "source": [
        "print(\"Evaluation of Decision Tree Model\")\n",
        "print()\n",
        "metrics(test_Y, predictions_dt.round())"
      ]
    },
    {
      "cell_type": "code",
      "execution_count": null,
      "id": "fb90440b",
      "metadata": {
        "id": "fb90440b",
        "outputId": "6fe05ec8-3a20-46f6-fff6-6f0370c164c7"
      },
      "outputs": [
        {
          "name": "stdout",
          "output_type": "stream",
          "text": [
            "Evaluation of Random Forest Model\n",
            "\n",
            "Accuracy: 0.99961\n",
            "Precision: 0.94017\n",
            "Recall: 0.80882\n",
            "F1-score: 0.86957\n"
          ]
        }
      ],
      "source": [
        "print(\"Evaluation of Random Forest Model\")\n",
        "print()\n",
        "metrics(test_Y, predictions_rf.round())"
      ]
    },
    {
      "cell_type": "code",
      "execution_count": null,
      "id": "43d2df3e",
      "metadata": {
        "id": "43d2df3e",
        "outputId": "57220140-8002-4b31-8337-92e6bdefe37b"
      },
      "outputs": [
        {
          "name": "stdout",
          "output_type": "stream",
          "text": [
            "Evaluation of Naive Bayes Model\n",
            "\n",
            "Accuracy: 0.97809\n",
            "Precision: 0.05849\n",
            "Recall: 0.84559\n",
            "F1-score: 0.10942\n"
          ]
        }
      ],
      "source": [
        "print(\"Evaluation of Naive Bayes Model\")\n",
        "print()\n",
        "metrics(test_Y, predictions_nb.round())"
      ]
    },
    {
      "cell_type": "markdown",
      "id": "2ea205b5",
      "metadata": {
        "id": "2ea205b5"
      },
      "source": [
        "Clearly, Random Forest model works better than Decision Trees"
      ]
    },
    {
      "cell_type": "markdown",
      "id": "0f441902",
      "metadata": {
        "id": "0f441902"
      },
      "source": [
        "But, if we clearly observe our dataset suffers a serious problem of **class imbalance**.\n",
        "The genuine (not fraud) transactions are more than 99% with the fraud transactions constituting of 0.17%.\n",
        "\n",
        "With such kind of distribution, if we train our model without taking care of the imbalance issues, it predicts the label with higher importance given to genuine transactions (as there are more data about them) and hence obtains more accuracy."
      ]
    },
    {
      "cell_type": "markdown",
      "id": "e636cb0d",
      "metadata": {
        "id": "e636cb0d"
      },
      "source": [
        "The class imbalance problem can be solved by various techniques. **Over sampling** is one of them.\n",
        "\n",
        "One approach to addressing imbalanced datasets is to oversample the minority class. The simplest approach involves duplicating examples in the minority class, although these examples don’t add any new information to the model.\n",
        "\n",
        "Instead, new examples can be synthesized from the existing examples. This is a type of data augmentation for the minority class and is referred to as the **Synthetic Minority Oversampling Technique**, or **SMOTE** for short."
      ]
    },
    {
      "cell_type": "code",
      "execution_count": null,
      "id": "99cae818",
      "metadata": {
        "id": "99cae818",
        "outputId": "ee54cfe9-8b35-4a93-d883-c305b59c3338"
      },
      "outputs": [
        {
          "name": "stdout",
          "output_type": "stream",
          "text": [
            "Resampled shape of X:  (568630, 29)\n",
            "Resampled shape of Y:  (568630,)\n",
            "Counter({0: 284315, 1: 284315})\n"
          ]
        }
      ],
      "source": [
        "#\n",
        "\n",
        "from imblearn.over_sampling import SMOTE\n",
        "\n",
        "X_resampled, Y_resampled = SMOTE().fit_resample(X, Y)\n",
        "print(\"Resampled shape of X: \", X_resampled.shape)\n",
        "print(\"Resampled shape of Y: \", Y_resampled.shape)\n",
        "\n",
        "value_counts = Counter(Y_resampled)\n",
        "print(value_counts)\n",
        "\n",
        "(train_X, test_X, train_Y, test_Y) = train_test_split(X_resampled, Y_resampled, test_size= 0.3, random_state= 42)"
      ]
    },
    {
      "cell_type": "code",
      "execution_count": null,
      "id": "a6e01a48",
      "metadata": {
        "id": "a6e01a48"
      },
      "outputs": [],
      "source": [
        "# Build the Random Forest classifier on the new dataset\n",
        "\n",
        "rf_resampled = RandomForestClassifier(n_estimators = 100)\n",
        "rf_resampled.fit(train_X, train_Y)\n",
        "\n",
        "rf_predictions_resampled = rf_resampled.predict(test_X)\n",
        "random_forest_score_resampled = rf_resampled.score(test_X, test_Y) * 100"
      ]
    },
    {
      "cell_type": "code",
      "execution_count": null,
      "id": "69b8d36e",
      "metadata": {
        "id": "69b8d36e",
        "outputId": "8a04cf0b-0d40-4f06-99b0-796900f57884"
      },
      "outputs": [
        {
          "name": "stdout",
          "output_type": "stream",
          "text": [
            " rf_resampled score :  99.98768971035648\n"
          ]
        }
      ],
      "source": [
        "print(\" rf_resampled score : \",random_forest_score_resampled)"
      ]
    },
    {
      "cell_type": "code",
      "execution_count": null,
      "id": "dfa4b7d8",
      "metadata": {
        "id": "dfa4b7d8",
        "outputId": "3126b641-0e28-414e-c95b-c3f23064495e"
      },
      "outputs": [
        {
          "name": "stdout",
          "output_type": "stream",
          "text": [
            "Confusion Matrix - Random Forest\n",
            "[[85129    20]\n",
            " [    1 85439]]\n"
          ]
        }
      ],
      "source": [
        "# Visualize the confusion matrix\n",
        "\n",
        "cm_rf_resampled = confusion_matrix(test_Y, rf_predictions_resampled.round())\n",
        "print(\"Confusion Matrix - Random Forest\")\n",
        "print(cm_rf_resampled)"
      ]
    },
    {
      "cell_type": "code",
      "execution_count": null,
      "id": "345c1b9b",
      "metadata": {
        "id": "345c1b9b",
        "outputId": "ddb76849-1b2a-461a-b7e2-ef404805546d"
      },
      "outputs": [
        {
          "name": "stdout",
          "output_type": "stream",
          "text": [
            "Confusion matrix, without normalization\n"
          ]
        },
        {
          "data": {
            "image/png": "[encoded data removed]",
            "text/plain": [
              "<Figure size 432x288 with 2 Axes>"
            ]
          },
          "metadata": {
            "needs_background": "light"
          },
          "output_type": "display_data"
        }
      ],
      "source": [
        "plot_confusion_matrix(cm_rf_resampled, classes=[0, 1], title= \"Confusion Matrix - Random Forest After Oversampling\")"
      ]
    },
    {
      "cell_type": "code",
      "execution_count": null,
      "id": "9116f98c",
      "metadata": {
        "scrolled": true,
        "id": "9116f98c",
        "outputId": "ddbb17fb-7443-4c54-bc4f-87ae0a860e08"
      },
      "outputs": [
        {
          "name": "stdout",
          "output_type": "stream",
          "text": [
            "Evaluation of Random Forest Model\n",
            "\n",
            "Accuracy: 0.99988\n",
            "Precision: 0.99977\n",
            "Recall: 0.99999\n",
            "F1-score: 0.99988\n"
          ]
        }
      ],
      "source": [
        "print(\"Evaluation of Random Forest Model\")\n",
        "print()\n",
        "metrics(test_Y, rf_predictions_resampled.round())"
      ]
    },
    {
      "cell_type": "code",
      "execution_count": null,
      "id": "f12b6940",
      "metadata": {
        "id": "f12b6940"
      },
      "outputs": [],
      "source": [
        "# Build the Decision Tree classifier on the new dataset\n",
        "\n",
        "dt_resampled = DecisionTreeClassifier()\n",
        "dt_resampled.fit(train_X, train_Y)\n",
        "\n",
        "dt_predictions_resampled = dt_resampled.predict(test_X)\n",
        "decision_tree_resampled = dt_resampled.score(test_X, test_Y) * 100"
      ]
    },
    {
      "cell_type": "code",
      "execution_count": null,
      "id": "f040e72f",
      "metadata": {
        "id": "f040e72f",
        "outputId": "55d07c51-610e-4851-e403-253bca0f0160"
      },
      "outputs": [
        {
          "name": "stdout",
          "output_type": "stream",
          "text": [
            "dt resampled score:  99.79834573155361\n"
          ]
        }
      ],
      "source": [
        "print(\"dt resampled score: \",decision_tree_resampled)"
      ]
    },
    {
      "cell_type": "code",
      "execution_count": null,
      "id": "58bb7a28",
      "metadata": {
        "id": "58bb7a28",
        "outputId": "db94c33f-7073-4610-889d-c35f7b30b048"
      },
      "outputs": [
        {
          "name": "stdout",
          "output_type": "stream",
          "text": [
            "Confusion Matrix - Random Forest\n",
            "[[84903   246]\n",
            " [   98 85342]]\n"
          ]
        }
      ],
      "source": [
        "# Visualize the confusion matrix\n",
        "\n",
        "dt_cm_resampled = confusion_matrix(test_Y, dt_predictions_resampled.round())\n",
        "print(\"Confusion Matrix - Random Forest\")\n",
        "print(dt_cm_resampled)"
      ]
    },
    {
      "cell_type": "code",
      "execution_count": null,
      "id": "46e53d2f",
      "metadata": {
        "id": "46e53d2f",
        "outputId": "05899d2b-3084-480f-fbbd-c71135ee8e98"
      },
      "outputs": [
        {
          "name": "stdout",
          "output_type": "stream",
          "text": [
            "Confusion matrix, without normalization\n"
          ]
        },
        {
          "data": {
            "image/png": "[encoded data removed]",
            "text/plain": [
              "<Figure size 432x288 with 2 Axes>"
            ]
          },
          "metadata": {
            "needs_background": "light"
          },
          "output_type": "display_data"
        }
      ],
      "source": [
        "plot_confusion_matrix(dt_cm_resampled, classes=[0, 1], title= \"Confusion Matrix - Random Forest After Oversampling\")"
      ]
    },
    {
      "cell_type": "code",
      "execution_count": null,
      "id": "dae2b8a3",
      "metadata": {
        "id": "dae2b8a3",
        "outputId": "f0158ff3-9458-4ff3-f639-02682e5fa412"
      },
      "outputs": [
        {
          "name": "stdout",
          "output_type": "stream",
          "text": [
            "Evaluation of Decision Tree  Model\n",
            "\n",
            "Accuracy: 0.99798\n",
            "Precision: 0.99713\n",
            "Recall: 0.99885\n",
            "F1-score: 0.99799\n"
          ]
        }
      ],
      "source": [
        "print(\"Evaluation of Decision Tree  Model\")\n",
        "print()\n",
        "metrics(test_Y, dt_predictions_resampled.round())"
      ]
    },
    {
      "cell_type": "code",
      "execution_count": null,
      "id": "2120a4e4",
      "metadata": {
        "id": "2120a4e4"
      },
      "outputs": [],
      "source": [
        "# Build the Naive Bayes classifier on the new dataset\n",
        "\n",
        "nb_resampled = GaussianNB()\n",
        "nb_resampled.fit(train_X, train_Y)\n",
        "\n",
        "nb_predictions_resampled = nb_resampled.predict(test_X)\n",
        "nb_resampled_score = nb_resampled.score(test_X, test_Y) * 100"
      ]
    },
    {
      "cell_type": "code",
      "execution_count": null,
      "id": "e57a5b85",
      "metadata": {
        "id": "e57a5b85",
        "outputId": "d120bc49-64cc-47d1-fcb4-551593d25ede"
      },
      "outputs": [
        {
          "name": "stdout",
          "output_type": "stream",
          "text": [
            "nb resampled score:  91.48596920082772\n"
          ]
        }
      ],
      "source": [
        "print(\"nb resampled score: \",nb_resampled_score)"
      ]
    },
    {
      "cell_type": "code",
      "execution_count": null,
      "id": "1a436645",
      "metadata": {
        "id": "1a436645",
        "outputId": "b33e4107-f482-4e82-b302-aa0e69b08f1a"
      },
      "outputs": [
        {
          "name": "stdout",
          "output_type": "stream",
          "text": [
            "Confusion Matrix - naive bayes\n",
            "[[83020  2129]\n",
            " [12395 73045]]\n"
          ]
        }
      ],
      "source": [
        "# Visualize the confusion matrix\n",
        "\n",
        "nb_cm_resampled = confusion_matrix(test_Y, nb_predictions_resampled.round())\n",
        "print(\"Confusion Matrix - naive bayes\")\n",
        "print(nb_cm_resampled)"
      ]
    },
    {
      "cell_type": "code",
      "execution_count": null,
      "id": "0aec6a6f",
      "metadata": {
        "id": "0aec6a6f",
        "outputId": "a3052644-d927-434d-c836-88c9631a7219"
      },
      "outputs": [
        {
          "name": "stdout",
          "output_type": "stream",
          "text": [
            "Confusion matrix, without normalization\n"
          ]
        },
        {
          "data": {
            "image/png": "[encoded data removed]",
            "text/plain": [
              "<Figure size 432x288 with 2 Axes>"
            ]
          },
          "metadata": {
            "needs_background": "light"
          },
          "output_type": "display_data"
        }
      ],
      "source": [
        "plot_confusion_matrix(nb_cm_resampled, classes=[0, 1], title= \"Confusion Matrix - Naive bayes After Oversampling\")"
      ]
    },
    {
      "cell_type": "code",
      "execution_count": null,
      "id": "e88cb122",
      "metadata": {
        "id": "e88cb122",
        "outputId": "f6e06043-7d76-4d89-b932-25088c5f503b"
      },
      "outputs": [
        {
          "name": "stdout",
          "output_type": "stream",
          "text": [
            "Evaluation of naive bayes Model\n",
            "\n",
            "Accuracy: 0.91486\n",
            "Precision: 0.97168\n",
            "Recall: 0.85493\n",
            "F1-score: 0.90957\n"
          ]
        }
      ],
      "source": [
        "print(\"Evaluation of naive bayes Model\")\n",
        "print()\n",
        "metrics(test_Y, nb_predictions_resampled.round())"
      ]
    },
    {
      "cell_type": "code",
      "execution_count": null,
      "id": "7e00e836",
      "metadata": {
        "id": "7e00e836"
      },
      "outputs": [],
      "source": []
    }
  ],
  "metadata": {
    "kernelspec": {
      "display_name": "Python 3 (ipykernel)",
      "language": "python",
      "name": "python3"
    },
    "language_info": {
      "codemirror_mode": {
        "name": "ipython",
        "version": 3
      },
      "file_extension": ".py",
      "mimetype": "text/x-python",
      "name": "python",
      "nbconvert_exporter": "python",
      "pygments_lexer": "ipython3",
      "version": "3.9.12"
    },
    "colab": {
      "provenance": []
    }
  },
  "nbformat": 4,
  "nbformat_minor": 5
}